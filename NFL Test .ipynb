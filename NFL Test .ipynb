{
 "cells": [
  {
   "cell_type": "markdown",
   "id": "c9fdb7bb",
   "metadata": {},
   "source": [
    "Import required extensions"
   ]
  },
  {
   "cell_type": "code",
   "execution_count": 1,
   "id": "661f32b4",
   "metadata": {},
   "outputs": [],
   "source": [
    "import numpy as np\n",
    "import pandas as pd\n",
    "import matplotlib.pyplot as plt"
   ]
  },
  {
   "cell_type": "markdown",
   "id": "9da93b60",
   "metadata": {},
   "source": [
    "PASSING WEEK 3"
   ]
  },
  {
   "cell_type": "code",
   "execution_count": 2,
   "id": "1ecee868",
   "metadata": {},
   "outputs": [],
   "source": [
    "passing_3 = pd.read_csv('/Users/adityanijasure/Desktop/NFL Data/nfloffenseweek3.csv')"
   ]
  },
  {
   "cell_type": "code",
   "execution_count": 3,
   "id": "9fbe033c",
   "metadata": {},
   "outputs": [],
   "source": [
    "passing_3 = passing_3[['team','offensive_plays','passes_completed','passes_attempted','passing_yards','passing_touchdowns','passing_interceptions','net_yards_per_pass_attempt','passing_1st_downs']]"
   ]
  },
  {
   "cell_type": "code",
   "execution_count": 4,
   "id": "72c960f4",
   "metadata": {},
   "outputs": [],
   "source": [
    "passing_3 = passing_3.set_index('team')"
   ]
  },
  {
   "cell_type": "markdown",
   "id": "f6428874",
   "metadata": {},
   "source": [
    "PASSING WEEK 4"
   ]
  },
  {
   "cell_type": "code",
   "execution_count": 5,
   "id": "c26607a3",
   "metadata": {},
   "outputs": [],
   "source": [
    "passing_4 = pd.read_csv('/Users/adityanijasure/Desktop/NFL Data/nfloffenseweek4.csv')"
   ]
  },
  {
   "cell_type": "code",
   "execution_count": 6,
   "id": "03ab0f3f",
   "metadata": {},
   "outputs": [],
   "source": [
    "passing_4 = passing_4[['team','offensive_plays','passes_completed','passes_attempted','passing_yards','passing_touchdowns','passing_interceptions','net_yards_per_pass_attempt','passing_1st_downs']]"
   ]
  },
  {
   "cell_type": "code",
   "execution_count": 7,
   "id": "0e0e6e48",
   "metadata": {},
   "outputs": [],
   "source": [
    "passing_4 = passing_4.set_index('team')"
   ]
  },
  {
   "cell_type": "markdown",
   "id": "499053c5",
   "metadata": {},
   "source": [
    "PASSING WEEK 5"
   ]
  },
  {
   "cell_type": "code",
   "execution_count": 8,
   "id": "f4a7ec79",
   "metadata": {},
   "outputs": [],
   "source": [
    "passing_5 = pd.read_csv('/Users/adityanijasure/Desktop/NFL Data/nfloffenseweek5.csv')"
   ]
  },
  {
   "cell_type": "code",
   "execution_count": 9,
   "id": "c7cb9ca9",
   "metadata": {},
   "outputs": [],
   "source": [
    "passing_5 = passing_5[['team','offensive_plays','passes_completed','passes_attempted','passing_yards','passing_touchdowns','passing_interceptions','net_yards_per_pass_attempt','passing_1st_downs']]"
   ]
  },
  {
   "cell_type": "code",
   "execution_count": 10,
   "id": "79dfc5bc",
   "metadata": {},
   "outputs": [],
   "source": [
    "passing_5 = passing_5.set_index('team')"
   ]
  },
  {
   "cell_type": "markdown",
   "id": "45392c3c",
   "metadata": {},
   "source": [
    "PASSING WEEK 6"
   ]
  },
  {
   "cell_type": "code",
   "execution_count": 11,
   "id": "e74e3707",
   "metadata": {},
   "outputs": [],
   "source": [
    "passing_6 = pd.read_csv('/Users/adityanijasure/Desktop/NFL Data/nfloffenseweek6.csv')"
   ]
  },
  {
   "cell_type": "code",
   "execution_count": 12,
   "id": "9832c53b",
   "metadata": {},
   "outputs": [],
   "source": [
    "passing_6 = passing_6[['team','offensive_plays','passes_completed','passes_attempted','passing_yards','passing_touchdowns','passing_interceptions','net_yards_per_pass_attempt','passing_1st_downs']]"
   ]
  },
  {
   "cell_type": "code",
   "execution_count": 13,
   "id": "dc82fd62",
   "metadata": {},
   "outputs": [],
   "source": [
    "passing_6 = passing_6.set_index('team')"
   ]
  },
  {
   "cell_type": "markdown",
   "id": "5c913411",
   "metadata": {},
   "source": [
    "PASSING WEEK 7"
   ]
  },
  {
   "cell_type": "code",
   "execution_count": 14,
   "id": "83cb64a6",
   "metadata": {},
   "outputs": [],
   "source": [
    "passing_7 = pd.read_csv('/Users/adityanijasure/Desktop/NFL Data/nfloffenseweek7.csv')"
   ]
  },
  {
   "cell_type": "code",
   "execution_count": 15,
   "id": "cdb950ef",
   "metadata": {},
   "outputs": [],
   "source": [
    "passing_7 = passing_7[['team','offensive_plays','passes_completed','passes_attempted','passing_yards','passing_touchdowns','passing_interceptions','net_yards_per_pass_attempt','passing_1st_downs']]"
   ]
  },
  {
   "cell_type": "code",
   "execution_count": 16,
   "id": "8d36f213",
   "metadata": {},
   "outputs": [],
   "source": [
    "passing_7 = passing_7.set_index('team')"
   ]
  },
  {
   "cell_type": "markdown",
   "id": "386c3cee",
   "metadata": {},
   "source": [
    "PASSING WEEK 8"
   ]
  },
  {
   "cell_type": "code",
   "execution_count": 17,
   "id": "e50adaac",
   "metadata": {},
   "outputs": [],
   "source": [
    "passing_8 = pd.read_csv('/Users/adityanijasure/Desktop/NFL Data/nfloffenseweek8.csv')"
   ]
  },
  {
   "cell_type": "code",
   "execution_count": 18,
   "id": "382f039c",
   "metadata": {},
   "outputs": [],
   "source": [
    "passing_8 = passing_8[['team','offensive_plays','passes_completed','passes_attempted','passing_yards','passing_touchdowns','passing_interceptions','net_yards_per_pass_attempt','passing_1st_downs']]"
   ]
  },
  {
   "cell_type": "code",
   "execution_count": 19,
   "id": "2bcb9533",
   "metadata": {},
   "outputs": [],
   "source": [
    "passing_8 = passing_8.set_index('team')"
   ]
  },
  {
   "cell_type": "markdown",
   "id": "c8543d98",
   "metadata": {},
   "source": [
    "PASSING WEEK 9"
   ]
  },
  {
   "cell_type": "code",
   "execution_count": 20,
   "id": "a3419e80",
   "metadata": {},
   "outputs": [],
   "source": [
    "passing_9 = pd.read_csv('/Users/adityanijasure/Desktop/NFL Data/nfloffenseweek9.csv')"
   ]
  },
  {
   "cell_type": "code",
   "execution_count": 21,
   "id": "ef85fcc4",
   "metadata": {},
   "outputs": [],
   "source": [
    "passing_9 = passing_9[['team','offensive_plays','passes_completed','passes_attempted','passing_yards','passing_touchdowns','passing_interceptions','net_yards_per_pass_attempt','passing_1st_downs']]"
   ]
  },
  {
   "cell_type": "code",
   "execution_count": 22,
   "id": "849ce854",
   "metadata": {},
   "outputs": [],
   "source": [
    "passing_9 = passing_9.set_index('team')"
   ]
  },
  {
   "cell_type": "markdown",
   "id": "8b181b60",
   "metadata": {},
   "source": [
    "COMBINE"
   ]
  },
  {
   "cell_type": "code",
   "execution_count": 23,
   "id": "ce4837b9",
   "metadata": {},
   "outputs": [],
   "source": [
    "combine_passing = passing_3.add(passing_4,fill_value=0).add(passing_5,fill_value=0).add(passing_6,fill_value=0).add(passing_7,fill_value=0).add(passing_8,fill_value=0).add(passing_9,fill_value=0)"
   ]
  },
  {
   "cell_type": "code",
   "execution_count": 24,
   "id": "701c1455",
   "metadata": {},
   "outputs": [],
   "source": [
    "#combine_passing"
   ]
  },
  {
   "cell_type": "code",
   "execution_count": 25,
   "id": "66f0b786",
   "metadata": {},
   "outputs": [],
   "source": [
    "combine_passing.to_csv(\"team_combine_passing.csv\")"
   ]
  },
  {
   "cell_type": "code",
   "execution_count": 26,
   "id": "21089613",
   "metadata": {},
   "outputs": [
    {
     "data": {
      "text/plain": [
       "offensive_plays               0.209025\n",
       "passes_completed              0.461782\n",
       "passes_attempted              0.429665\n",
       "passing_yards                 0.698615\n",
       "passing_touchdowns            1.000000\n",
       "passing_interceptions         0.006559\n",
       "net_yards_per_pass_attempt    0.557044\n",
       "passing_1st_downs             0.652573\n",
       "Name: passing_touchdowns, dtype: float64"
      ]
     },
     "execution_count": 26,
     "metadata": {},
     "output_type": "execute_result"
    }
   ],
   "source": [
    "combine_passing.corr()[\"passing_touchdowns\"]"
   ]
  },
  {
   "cell_type": "code",
   "execution_count": 27,
   "id": "13f59294",
   "metadata": {},
   "outputs": [
    {
     "data": {
      "text/plain": [
       "<AxesSubplot:>"
      ]
     },
     "execution_count": 27,
     "metadata": {},
     "output_type": "execute_result"
    },
    {
     "data": {
      "image/png": "[encoded data removed]",
      "text/plain": [
       "<Figure size 432x288 with 1 Axes>"
      ]
     },
     "metadata": {
      "needs_background": "light"
     },
     "output_type": "display_data"
    }
   ],
   "source": [
    "combine_passing.corr()[\"passing_touchdowns\"].plot.bar()"
   ]
  },
  {
   "cell_type": "markdown",
   "id": "8f0d0f38",
   "metadata": {},
   "source": [
    "RUSHING WEEK 3"
   ]
  },
  {
   "cell_type": "code",
   "execution_count": 28,
   "id": "9f3b7fc8",
   "metadata": {},
   "outputs": [],
   "source": [
    "rushing_3 = pd.read_csv('/Users/adityanijasure/Desktop/NFL Data/nfloffenseweek3.csv')"
   ]
  },
  {
   "cell_type": "code",
   "execution_count": 29,
   "id": "a372a3a4",
   "metadata": {},
   "outputs": [],
   "source": [
    "rushing_3 = rushing_3[['team','offensive_plays','rushing_yards','rushing_touchdowns','rushing_attempts','rushing_yards_per_attempt','rushing_1st_downs']]"
   ]
  },
  {
   "cell_type": "code",
   "execution_count": 30,
   "id": "84c8bb50",
   "metadata": {},
   "outputs": [],
   "source": [
    "rushing_3 = rushing_3.set_index('team')"
   ]
  },
  {
   "cell_type": "markdown",
   "id": "d784d1f0",
   "metadata": {},
   "source": [
    "RUSHING WEEK 4"
   ]
  },
  {
   "cell_type": "code",
   "execution_count": 31,
   "id": "3ce81bfe",
   "metadata": {},
   "outputs": [],
   "source": [
    "rushing_4 = pd.read_csv('/Users/adityanijasure/Desktop/NFL Data/nfloffenseweek4.csv')"
   ]
  },
  {
   "cell_type": "code",
   "execution_count": 32,
   "id": "023d4cf3",
   "metadata": {},
   "outputs": [],
   "source": [
    "rushing_4 = rushing_4[['team','offensive_plays','rushing_yards','rushing_touchdowns','rushing_attempts','rushing_yards_per_attempt','rushing_1st_downs']]"
   ]
  },
  {
   "cell_type": "code",
   "execution_count": 33,
   "id": "8ec2b8a1",
   "metadata": {},
   "outputs": [],
   "source": [
    "rushing_4 = rushing_4.set_index('team')"
   ]
  },
  {
   "cell_type": "markdown",
   "id": "435d05b0",
   "metadata": {},
   "source": [
    "RUSHING WEEK 5"
   ]
  },
  {
   "cell_type": "code",
   "execution_count": 34,
   "id": "0bd727ed",
   "metadata": {},
   "outputs": [],
   "source": [
    "rushing_5 = pd.read_csv('/Users/adityanijasure/Desktop/NFL Data/nfloffenseweek5.csv')"
   ]
  },
  {
   "cell_type": "code",
   "execution_count": 35,
   "id": "9d5a6150",
   "metadata": {},
   "outputs": [],
   "source": [
    "rushing_5 = rushing_5[['team','offensive_plays','rushing_yards','rushing_touchdowns','rushing_attempts','rushing_yards_per_attempt','rushing_1st_downs']]"
   ]
  },
  {
   "cell_type": "code",
   "execution_count": 36,
   "id": "3b44b138",
   "metadata": {},
   "outputs": [],
   "source": [
    "rushing_5 = rushing_5.set_index('team')"
   ]
  },
  {
   "cell_type": "markdown",
   "id": "793eabd0",
   "metadata": {},
   "source": [
    "RUSHING WEEK 6"
   ]
  },
  {
   "cell_type": "code",
   "execution_count": 37,
   "id": "7c95eb01",
   "metadata": {},
   "outputs": [],
   "source": [
    "rushing_6 = pd.read_csv('/Users/adityanijasure/Desktop/NFL Data/nfloffenseweek6.csv')"
   ]
  },
  {
   "cell_type": "code",
   "execution_count": 38,
   "id": "a9638aa5",
   "metadata": {},
   "outputs": [],
   "source": [
    "rushing_6 = rushing_6[['team','offensive_plays','rushing_yards','rushing_touchdowns','rushing_attempts','rushing_yards_per_attempt','rushing_1st_downs']]"
   ]
  },
  {
   "cell_type": "code",
   "execution_count": 39,
   "id": "b22c5502",
   "metadata": {},
   "outputs": [],
   "source": [
    "rushing_6 = rushing_6.set_index('team')"
   ]
  },
  {
   "cell_type": "markdown",
   "id": "a0400b56",
   "metadata": {},
   "source": [
    "RUSHING WEEK 7 "
   ]
  },
  {
   "cell_type": "code",
   "execution_count": 40,
   "id": "0782196e",
   "metadata": {},
   "outputs": [],
   "source": [
    "rushing_7 = pd.read_csv('/Users/adityanijasure/Desktop/NFL Data/nfloffenseweek7.csv')"
   ]
  },
  {
   "cell_type": "code",
   "execution_count": 41,
   "id": "d597cd4d",
   "metadata": {},
   "outputs": [],
   "source": [
    "rushing_7 = rushing_7[['team','offensive_plays','rushing_yards','rushing_touchdowns','rushing_attempts','rushing_yards_per_attempt','rushing_1st_downs']]"
   ]
  },
  {
   "cell_type": "code",
   "execution_count": 42,
   "id": "adf0bceb",
   "metadata": {},
   "outputs": [],
   "source": [
    "rushing_7 = rushing_7.set_index('team')"
   ]
  },
  {
   "cell_type": "markdown",
   "id": "7851e032",
   "metadata": {},
   "source": [
    "RUSHING WEEK 8 "
   ]
  },
  {
   "cell_type": "code",
   "execution_count": 43,
   "id": "52e34769",
   "metadata": {},
   "outputs": [],
   "source": [
    "rushing_8 = pd.read_csv('/Users/adityanijasure/Desktop/NFL Data/nfloffenseweek8.csv')"
   ]
  },
  {
   "cell_type": "code",
   "execution_count": 44,
   "id": "9e67aefe",
   "metadata": {},
   "outputs": [],
   "source": [
    "rushing_8 = rushing_8[['team','offensive_plays','rushing_yards','rushing_touchdowns','rushing_attempts','rushing_yards_per_attempt','rushing_1st_downs']]"
   ]
  },
  {
   "cell_type": "code",
   "execution_count": 45,
   "id": "9c388ea0",
   "metadata": {},
   "outputs": [],
   "source": [
    "rushing_8 = rushing_8.set_index('team')"
   ]
  },
  {
   "cell_type": "markdown",
   "id": "5df24bbb",
   "metadata": {},
   "source": [
    "RUSHING WEEK 9"
   ]
  },
  {
   "cell_type": "code",
   "execution_count": 46,
   "id": "5e3eee7d",
   "metadata": {},
   "outputs": [],
   "source": [
    "rushing_9 = pd.read_csv('/Users/adityanijasure/Desktop/NFL Data/nfloffenseweek9.csv')"
   ]
  },
  {
   "cell_type": "code",
   "execution_count": 47,
   "id": "cb85056f",
   "metadata": {},
   "outputs": [],
   "source": [
    "rushing_9 = rushing_9[['team','offensive_plays','rushing_yards','rushing_touchdowns','rushing_attempts','rushing_yards_per_attempt','rushing_1st_downs']]"
   ]
  },
  {
   "cell_type": "code",
   "execution_count": 48,
   "id": "dbd5d7e7",
   "metadata": {},
   "outputs": [],
   "source": [
    "rushing_9 = rushing_9.set_index('team')"
   ]
  },
  {
   "cell_type": "markdown",
   "id": "10893aa5",
   "metadata": {},
   "source": [
    "COMBINE RUSHING"
   ]
  },
  {
   "cell_type": "code",
   "execution_count": 49,
   "id": "f3c8a246",
   "metadata": {},
   "outputs": [],
   "source": [
    "combine_rushing = rushing_3.add(rushing_4,fill_value=0).add(rushing_5,fill_value=0).add(rushing_6,fill_value=0).add(rushing_7,fill_value=0).add(rushing_8,fill_value=0).add(rushing_9,fill_value=0)"
   ]
  },
  {
   "cell_type": "code",
   "execution_count": 50,
   "id": "f73194e2",
   "metadata": {},
   "outputs": [],
   "source": [
    "combine_rushing.to_csv(\"team_combine_rushing.csv\")"
   ]
  },
  {
   "cell_type": "code",
   "execution_count": 51,
   "id": "52e8afa1",
   "metadata": {},
   "outputs": [
    {
     "data": {
      "text/plain": [
       "offensive_plays              0.034379\n",
       "rushing_yards                0.671271\n",
       "rushing_touchdowns           1.000000\n",
       "rushing_attempts             0.708347\n",
       "rushing_yards_per_attempt    0.430886\n",
       "rushing_1st_downs            0.667160\n",
       "Name: rushing_touchdowns, dtype: float64"
      ]
     },
     "execution_count": 51,
     "metadata": {},
     "output_type": "execute_result"
    }
   ],
   "source": [
    "combine_rushing.corr()[\"rushing_touchdowns\"]"
   ]
  },
  {
   "cell_type": "code",
   "execution_count": 52,
   "id": "333e7d12",
   "metadata": {},
   "outputs": [
    {
     "data": {
      "text/plain": [
       "<AxesSubplot:>"
      ]
     },
     "execution_count": 52,
     "metadata": {},
     "output_type": "execute_result"
    },
    {
     "data": {
      "image/png": "[encoded data removed]",
      "text/plain": [
       "<Figure size 432x288 with 1 Axes>"
      ]
     },
     "metadata": {
      "needs_background": "light"
     },
     "output_type": "display_data"
    }
   ],
   "source": [
    "combine_rushing.corr()[\"rushing_touchdowns\"].plot.bar()"
   ]
  },
  {
   "cell_type": "markdown",
   "id": "046f41cd",
   "metadata": {},
   "source": [
    "Merge the passing and rushing stats into one file"
   ]
  },
  {
   "cell_type": "code",
   "execution_count": 53,
   "id": "5e7c9a81",
   "metadata": {},
   "outputs": [],
   "source": [
    "combine = pd.merge(combine_passing,combine_rushing, on='team', how='inner')"
   ]
  },
  {
   "cell_type": "code",
   "execution_count": 54,
   "id": "6049ee89",
   "metadata": {},
   "outputs": [],
   "source": [
    "combine.rename(columns={\"offensive_plays_x\":\"offensive_plays\"},inplace=True)"
   ]
  },
  {
   "cell_type": "code",
   "execution_count": 55,
   "id": "d44f54b5",
   "metadata": {},
   "outputs": [
    {
     "data": {
      "text/html": [
       "<div>\n",
       "<style scoped>\n",
       "    .dataframe tbody tr th:only-of-type {\n",
       "        vertical-align: middle;\n",
       "    }\n",
       "\n",
       "    .dataframe tbody tr th {\n",
       "        vertical-align: top;\n",
       "    }\n",
       "\n",
       "    .dataframe thead th {\n",
       "        text-align: right;\n",
       "    }\n",
       "</style>\n",
       "<table border=\"1\" class=\"dataframe\">\n",
       "  <thead>\n",
       "    <tr style=\"text-align: right;\">\n",
       "      <th></th>\n",
       "      <th>offensive_plays</th>\n",
       "      <th>passes_completed</th>\n",
       "      <th>passes_attempted</th>\n",
       "      <th>passing_yards</th>\n",
       "      <th>passing_touchdowns</th>\n",
       "      <th>passing_interceptions</th>\n",
       "      <th>net_yards_per_pass_attempt</th>\n",
       "      <th>passing_1st_downs</th>\n",
       "      <th>offensive_plays_y</th>\n",
       "      <th>rushing_yards</th>\n",
       "      <th>rushing_touchdowns</th>\n",
       "      <th>rushing_attempts</th>\n",
       "      <th>rushing_yards_per_attempt</th>\n",
       "      <th>rushing_1st_downs</th>\n",
       "    </tr>\n",
       "    <tr>\n",
       "      <th>team</th>\n",
       "      <th></th>\n",
       "      <th></th>\n",
       "      <th></th>\n",
       "      <th></th>\n",
       "      <th></th>\n",
       "      <th></th>\n",
       "      <th></th>\n",
       "      <th></th>\n",
       "      <th></th>\n",
       "      <th></th>\n",
       "      <th></th>\n",
       "      <th></th>\n",
       "      <th></th>\n",
       "      <th></th>\n",
       "    </tr>\n",
       "  </thead>\n",
       "  <tbody>\n",
       "    <tr>\n",
       "      <th>Arizona Cardinals</th>\n",
       "      <td>2984</td>\n",
       "      <td>1161</td>\n",
       "      <td>1775</td>\n",
       "      <td>9624</td>\n",
       "      <td>49</td>\n",
       "      <td>26</td>\n",
       "      <td>35.8</td>\n",
       "      <td>529</td>\n",
       "      <td>2984</td>\n",
       "      <td>4889</td>\n",
       "      <td>38</td>\n",
       "      <td>1113</td>\n",
       "      <td>30.7</td>\n",
       "      <td>320</td>\n",
       "    </tr>\n",
       "    <tr>\n",
       "      <th>Atlanta Falcons</th>\n",
       "      <td>2455</td>\n",
       "      <td>590</td>\n",
       "      <td>966</td>\n",
       "      <td>6884</td>\n",
       "      <td>43</td>\n",
       "      <td>31</td>\n",
       "      <td>45.8</td>\n",
       "      <td>373</td>\n",
       "      <td>2455</td>\n",
       "      <td>6785</td>\n",
       "      <td>54</td>\n",
       "      <td>1393</td>\n",
       "      <td>34.3</td>\n",
       "      <td>378</td>\n",
       "    </tr>\n",
       "    <tr>\n",
       "      <th>Baltimore Ravens</th>\n",
       "      <td>2485</td>\n",
       "      <td>768</td>\n",
       "      <td>1224</td>\n",
       "      <td>8436</td>\n",
       "      <td>90</td>\n",
       "      <td>35</td>\n",
       "      <td>46.4</td>\n",
       "      <td>405</td>\n",
       "      <td>2485</td>\n",
       "      <td>6563</td>\n",
       "      <td>34</td>\n",
       "      <td>1176</td>\n",
       "      <td>38.9</td>\n",
       "      <td>378</td>\n",
       "    </tr>\n",
       "    <tr>\n",
       "      <th>Buffalo Bills</th>\n",
       "      <td>2590</td>\n",
       "      <td>1034</td>\n",
       "      <td>1578</td>\n",
       "      <td>12162</td>\n",
       "      <td>105</td>\n",
       "      <td>31</td>\n",
       "      <td>51.4</td>\n",
       "      <td>600</td>\n",
       "      <td>2590</td>\n",
       "      <td>4649</td>\n",
       "      <td>22</td>\n",
       "      <td>944</td>\n",
       "      <td>34.3</td>\n",
       "      <td>271</td>\n",
       "    </tr>\n",
       "    <tr>\n",
       "      <th>Carolina Panthers</th>\n",
       "      <td>2292</td>\n",
       "      <td>706</td>\n",
       "      <td>1245</td>\n",
       "      <td>7420</td>\n",
       "      <td>37</td>\n",
       "      <td>32</td>\n",
       "      <td>37.8</td>\n",
       "      <td>307</td>\n",
       "      <td>2292</td>\n",
       "      <td>4268</td>\n",
       "      <td>29</td>\n",
       "      <td>929</td>\n",
       "      <td>32.0</td>\n",
       "      <td>222</td>\n",
       "    </tr>\n",
       "  </tbody>\n",
       "</table>\n",
       "</div>"
      ],
      "text/plain": [
       "                   offensive_plays  passes_completed  passes_attempted  \\\n",
       "team                                                                     \n",
       "Arizona Cardinals             2984              1161              1775   \n",
       "Atlanta Falcons               2455               590               966   \n",
       "Baltimore Ravens              2485               768              1224   \n",
       "Buffalo Bills                 2590              1034              1578   \n",
       "Carolina Panthers             2292               706              1245   \n",
       "\n",
       "                   passing_yards  passing_touchdowns  passing_interceptions  \\\n",
       "team                                                                          \n",
       "Arizona Cardinals           9624                  49                     26   \n",
       "Atlanta Falcons             6884                  43                     31   \n",
       "Baltimore Ravens            8436                  90                     35   \n",
       "Buffalo Bills              12162                 105                     31   \n",
       "Carolina Panthers           7420                  37                     32   \n",
       "\n",
       "                   net_yards_per_pass_attempt  passing_1st_downs  \\\n",
       "team                                                               \n",
       "Arizona Cardinals                        35.8                529   \n",
       "Atlanta Falcons                          45.8                373   \n",
       "Baltimore Ravens                         46.4                405   \n",
       "Buffalo Bills                            51.4                600   \n",
       "Carolina Panthers                        37.8                307   \n",
       "\n",
       "                   offensive_plays_y  rushing_yards  rushing_touchdowns  \\\n",
       "team                                                                      \n",
       "Arizona Cardinals               2984           4889                  38   \n",
       "Atlanta Falcons                 2455           6785                  54   \n",
       "Baltimore Ravens                2485           6563                  34   \n",
       "Buffalo Bills                   2590           4649                  22   \n",
       "Carolina Panthers               2292           4268                  29   \n",
       "\n",
       "                   rushing_attempts  rushing_yards_per_attempt  \\\n",
       "team                                                             \n",
       "Arizona Cardinals              1113                       30.7   \n",
       "Atlanta Falcons                1393                       34.3   \n",
       "Baltimore Ravens               1176                       38.9   \n",
       "Buffalo Bills                   944                       34.3   \n",
       "Carolina Panthers               929                       32.0   \n",
       "\n",
       "                   rushing_1st_downs  \n",
       "team                                  \n",
       "Arizona Cardinals                320  \n",
       "Atlanta Falcons                  378  \n",
       "Baltimore Ravens                 378  \n",
       "Buffalo Bills                    271  \n",
       "Carolina Panthers                222  "
      ]
     },
     "execution_count": 55,
     "metadata": {},
     "output_type": "execute_result"
    }
   ],
   "source": [
    "combine.head()"
   ]
  },
  {
   "cell_type": "code",
   "execution_count": 56,
   "id": "1cbc347c",
   "metadata": {},
   "outputs": [],
   "source": [
    "combine.to_csv('master_NFL.csv')"
   ]
  },
  {
   "cell_type": "markdown",
   "id": "ff4a01f2",
   "metadata": {},
   "source": [
    "CREATE A DATA FRAME TO PULL OUT OFFENSIVE PLAYS, PASSES ATTEMPT AND RUSHING ATTEMPT"
   ]
  },
  {
   "cell_type": "code",
   "execution_count": 57,
   "id": "2c9c2d2e",
   "metadata": {},
   "outputs": [],
   "source": [
    "offense_passing_rushing = combine[['offensive_plays','passes_attempted','rushing_attempts']]"
   ]
  },
  {
   "cell_type": "markdown",
   "id": "eab52bf7",
   "metadata": {},
   "source": [
    "CALCULATE PASSING PERCENT"
   ]
  },
  {
   "cell_type": "code",
   "execution_count": 58,
   "id": "2ac76e64",
   "metadata": {},
   "outputs": [],
   "source": [
    "passing_percent = combine['passes_attempted'].div(combine['offensive_plays'])*100"
   ]
  },
  {
   "cell_type": "code",
   "execution_count": 59,
   "id": "ee99b089",
   "metadata": {},
   "outputs": [
    {
     "name": "stderr",
     "output_type": "stream",
     "text": [
      "/var/folders/ct/cxhwjww542501gb6d4y4mg1w0000gn/T/ipykernel_84526/2174242853.py:1: SettingWithCopyWarning: \n",
      "A value is trying to be set on a copy of a slice from a DataFrame.\n",
      "Try using .loc[row_indexer,col_indexer] = value instead\n",
      "\n",
      "See the caveats in the documentation: https://pandas.pydata.org/pandas-docs/stable/user_guide/indexing.html#returning-a-view-versus-a-copy\n",
      "  offense_passing_rushing['passing_percent'] = passing_percent\n"
     ]
    }
   ],
   "source": [
    "offense_passing_rushing['passing_percent'] = passing_percent"
   ]
  },
  {
   "cell_type": "code",
   "execution_count": 60,
   "id": "6cba3a8e",
   "metadata": {},
   "outputs": [
    {
     "name": "stderr",
     "output_type": "stream",
     "text": [
      "/var/folders/ct/cxhwjww542501gb6d4y4mg1w0000gn/T/ipykernel_84526/4253810976.py:1: SettingWithCopyWarning: \n",
      "A value is trying to be set on a copy of a slice from a DataFrame.\n",
      "Try using .loc[row_indexer,col_indexer] = value instead\n",
      "\n",
      "See the caveats in the documentation: https://pandas.pydata.org/pandas-docs/stable/user_guide/indexing.html#returning-a-view-versus-a-copy\n",
      "  offense_passing_rushing['passing_percent'] = offense_passing_rushing['passing_percent'].astype(int)\n"
     ]
    }
   ],
   "source": [
    "offense_passing_rushing['passing_percent'] = offense_passing_rushing['passing_percent'].astype(int)"
   ]
  },
  {
   "cell_type": "markdown",
   "id": "feef49ac",
   "metadata": {},
   "source": [
    "CALCULATE RUSHING PERCENT"
   ]
  },
  {
   "cell_type": "code",
   "execution_count": 61,
   "id": "b3cde852",
   "metadata": {},
   "outputs": [],
   "source": [
    "rushing_percent = offense_passing_rushing['rushing_attempts'].div(offense_passing_rushing['offensive_plays'])*100"
   ]
  },
  {
   "cell_type": "code",
   "execution_count": 62,
   "id": "d053508b",
   "metadata": {},
   "outputs": [
    {
     "name": "stderr",
     "output_type": "stream",
     "text": [
      "/var/folders/ct/cxhwjww542501gb6d4y4mg1w0000gn/T/ipykernel_84526/2212449784.py:1: SettingWithCopyWarning: \n",
      "A value is trying to be set on a copy of a slice from a DataFrame.\n",
      "Try using .loc[row_indexer,col_indexer] = value instead\n",
      "\n",
      "See the caveats in the documentation: https://pandas.pydata.org/pandas-docs/stable/user_guide/indexing.html#returning-a-view-versus-a-copy\n",
      "  offense_passing_rushing['rushing_percent'] = rushing_percent\n"
     ]
    }
   ],
   "source": [
    "offense_passing_rushing['rushing_percent'] = rushing_percent"
   ]
  },
  {
   "cell_type": "code",
   "execution_count": 63,
   "id": "232c9858",
   "metadata": {},
   "outputs": [
    {
     "data": {
      "text/plain": [
       "dtype('float64')"
      ]
     },
     "execution_count": 63,
     "metadata": {},
     "output_type": "execute_result"
    }
   ],
   "source": [
    "offense_passing_rushing['rushing_percent'].dtype"
   ]
  },
  {
   "cell_type": "code",
   "execution_count": 64,
   "id": "b832bfd8",
   "metadata": {},
   "outputs": [
    {
     "name": "stderr",
     "output_type": "stream",
     "text": [
      "/var/folders/ct/cxhwjww542501gb6d4y4mg1w0000gn/T/ipykernel_84526/150587528.py:1: SettingWithCopyWarning: \n",
      "A value is trying to be set on a copy of a slice from a DataFrame.\n",
      "Try using .loc[row_indexer,col_indexer] = value instead\n",
      "\n",
      "See the caveats in the documentation: https://pandas.pydata.org/pandas-docs/stable/user_guide/indexing.html#returning-a-view-versus-a-copy\n",
      "  offense_passing_rushing['rushing_percent'] = offense_passing_rushing['rushing_percent'].astype(int)\n"
     ]
    }
   ],
   "source": [
    "offense_passing_rushing['rushing_percent'] = offense_passing_rushing['rushing_percent'].astype(int)"
   ]
  },
  {
   "cell_type": "code",
   "execution_count": 65,
   "id": "7f5d5d14",
   "metadata": {},
   "outputs": [
    {
     "data": {
      "text/html": [
       "<div>\n",
       "<style scoped>\n",
       "    .dataframe tbody tr th:only-of-type {\n",
       "        vertical-align: middle;\n",
       "    }\n",
       "\n",
       "    .dataframe tbody tr th {\n",
       "        vertical-align: top;\n",
       "    }\n",
       "\n",
       "    .dataframe thead th {\n",
       "        text-align: right;\n",
       "    }\n",
       "</style>\n",
       "<table border=\"1\" class=\"dataframe\">\n",
       "  <thead>\n",
       "    <tr style=\"text-align: right;\">\n",
       "      <th></th>\n",
       "      <th>offensive_plays</th>\n",
       "      <th>passes_attempted</th>\n",
       "      <th>rushing_attempts</th>\n",
       "      <th>passing_percent</th>\n",
       "      <th>rushing_percent</th>\n",
       "    </tr>\n",
       "    <tr>\n",
       "      <th>team</th>\n",
       "      <th></th>\n",
       "      <th></th>\n",
       "      <th></th>\n",
       "      <th></th>\n",
       "      <th></th>\n",
       "    </tr>\n",
       "  </thead>\n",
       "  <tbody>\n",
       "    <tr>\n",
       "      <th>Arizona Cardinals</th>\n",
       "      <td>2984</td>\n",
       "      <td>1775</td>\n",
       "      <td>1113</td>\n",
       "      <td>59</td>\n",
       "      <td>37</td>\n",
       "    </tr>\n",
       "    <tr>\n",
       "      <th>Atlanta Falcons</th>\n",
       "      <td>2455</td>\n",
       "      <td>966</td>\n",
       "      <td>1393</td>\n",
       "      <td>39</td>\n",
       "      <td>56</td>\n",
       "    </tr>\n",
       "    <tr>\n",
       "      <th>Baltimore Ravens</th>\n",
       "      <td>2485</td>\n",
       "      <td>1224</td>\n",
       "      <td>1176</td>\n",
       "      <td>49</td>\n",
       "      <td>47</td>\n",
       "    </tr>\n",
       "    <tr>\n",
       "      <th>Buffalo Bills</th>\n",
       "      <td>2590</td>\n",
       "      <td>1578</td>\n",
       "      <td>944</td>\n",
       "      <td>60</td>\n",
       "      <td>36</td>\n",
       "    </tr>\n",
       "    <tr>\n",
       "      <th>Carolina Panthers</th>\n",
       "      <td>2292</td>\n",
       "      <td>1245</td>\n",
       "      <td>929</td>\n",
       "      <td>54</td>\n",
       "      <td>40</td>\n",
       "    </tr>\n",
       "  </tbody>\n",
       "</table>\n",
       "</div>"
      ],
      "text/plain": [
       "                   offensive_plays  passes_attempted  rushing_attempts  \\\n",
       "team                                                                     \n",
       "Arizona Cardinals             2984              1775              1113   \n",
       "Atlanta Falcons               2455               966              1393   \n",
       "Baltimore Ravens              2485              1224              1176   \n",
       "Buffalo Bills                 2590              1578               944   \n",
       "Carolina Panthers             2292              1245               929   \n",
       "\n",
       "                   passing_percent  rushing_percent  \n",
       "team                                                 \n",
       "Arizona Cardinals               59               37  \n",
       "Atlanta Falcons                 39               56  \n",
       "Baltimore Ravens                49               47  \n",
       "Buffalo Bills                   60               36  \n",
       "Carolina Panthers               54               40  "
      ]
     },
     "execution_count": 65,
     "metadata": {},
     "output_type": "execute_result"
    }
   ],
   "source": [
    "offense_passing_rushing.head()"
   ]
  },
  {
   "cell_type": "markdown",
   "id": "79ac7ad1",
   "metadata": {},
   "source": [
    "FIND TEAM WITH MOST RUSHING AND PASSING PERCENT"
   ]
  },
  {
   "cell_type": "code",
   "execution_count": 66,
   "id": "8965f5dd",
   "metadata": {},
   "outputs": [
    {
     "data": {
      "text/html": [
       "<div>\n",
       "<style scoped>\n",
       "    .dataframe tbody tr th:only-of-type {\n",
       "        vertical-align: middle;\n",
       "    }\n",
       "\n",
       "    .dataframe tbody tr th {\n",
       "        vertical-align: top;\n",
       "    }\n",
       "\n",
       "    .dataframe thead th {\n",
       "        text-align: right;\n",
       "    }\n",
       "</style>\n",
       "<table border=\"1\" class=\"dataframe\">\n",
       "  <thead>\n",
       "    <tr style=\"text-align: right;\">\n",
       "      <th></th>\n",
       "      <th>offensive_plays</th>\n",
       "      <th>passes_attempted</th>\n",
       "      <th>rushing_attempts</th>\n",
       "      <th>passing_percent</th>\n",
       "      <th>rushing_percent</th>\n",
       "    </tr>\n",
       "    <tr>\n",
       "      <th>team</th>\n",
       "      <th></th>\n",
       "      <th></th>\n",
       "      <th></th>\n",
       "      <th></th>\n",
       "      <th></th>\n",
       "    </tr>\n",
       "  </thead>\n",
       "  <tbody>\n",
       "    <tr>\n",
       "      <th>Chicago Bears</th>\n",
       "      <td>2406</td>\n",
       "      <td>799</td>\n",
       "      <td>1449</td>\n",
       "      <td>33</td>\n",
       "      <td>60</td>\n",
       "    </tr>\n",
       "    <tr>\n",
       "      <th>Atlanta Falcons</th>\n",
       "      <td>2455</td>\n",
       "      <td>966</td>\n",
       "      <td>1393</td>\n",
       "      <td>39</td>\n",
       "      <td>56</td>\n",
       "    </tr>\n",
       "    <tr>\n",
       "      <th>Tennessee Titans</th>\n",
       "      <td>2133</td>\n",
       "      <td>935</td>\n",
       "      <td>1112</td>\n",
       "      <td>43</td>\n",
       "      <td>52</td>\n",
       "    </tr>\n",
       "    <tr>\n",
       "      <th>Philadelphia Eagles</th>\n",
       "      <td>2713</td>\n",
       "      <td>1203</td>\n",
       "      <td>1413</td>\n",
       "      <td>44</td>\n",
       "      <td>52</td>\n",
       "    </tr>\n",
       "    <tr>\n",
       "      <th>New York Giants</th>\n",
       "      <td>2612</td>\n",
       "      <td>1135</td>\n",
       "      <td>1346</td>\n",
       "      <td>43</td>\n",
       "      <td>51</td>\n",
       "    </tr>\n",
       "  </tbody>\n",
       "</table>\n",
       "</div>"
      ],
      "text/plain": [
       "                     offensive_plays  passes_attempted  rushing_attempts  \\\n",
       "team                                                                       \n",
       "Chicago Bears                   2406               799              1449   \n",
       "Atlanta Falcons                 2455               966              1393   \n",
       "Tennessee Titans                2133               935              1112   \n",
       "Philadelphia Eagles             2713              1203              1413   \n",
       "New York Giants                 2612              1135              1346   \n",
       "\n",
       "                     passing_percent  rushing_percent  \n",
       "team                                                   \n",
       "Chicago Bears                     33               60  \n",
       "Atlanta Falcons                   39               56  \n",
       "Tennessee Titans                  43               52  \n",
       "Philadelphia Eagles               44               52  \n",
       "New York Giants                   43               51  "
      ]
     },
     "execution_count": 66,
     "metadata": {},
     "output_type": "execute_result"
    }
   ],
   "source": [
    "offense_passing_rushing.sort_values(by=['rushing_percent'],ascending=False).head()"
   ]
  },
  {
   "cell_type": "code",
   "execution_count": 67,
   "id": "2a6242df",
   "metadata": {},
   "outputs": [
    {
     "data": {
      "text/html": [
       "<div>\n",
       "<style scoped>\n",
       "    .dataframe tbody tr th:only-of-type {\n",
       "        vertical-align: middle;\n",
       "    }\n",
       "\n",
       "    .dataframe tbody tr th {\n",
       "        vertical-align: top;\n",
       "    }\n",
       "\n",
       "    .dataframe thead th {\n",
       "        text-align: right;\n",
       "    }\n",
       "</style>\n",
       "<table border=\"1\" class=\"dataframe\">\n",
       "  <thead>\n",
       "    <tr style=\"text-align: right;\">\n",
       "      <th></th>\n",
       "      <th>offensive_plays</th>\n",
       "      <th>passes_attempted</th>\n",
       "      <th>rushing_attempts</th>\n",
       "      <th>passing_percent</th>\n",
       "      <th>rushing_percent</th>\n",
       "    </tr>\n",
       "    <tr>\n",
       "      <th>team</th>\n",
       "      <th></th>\n",
       "      <th></th>\n",
       "      <th></th>\n",
       "      <th></th>\n",
       "      <th></th>\n",
       "    </tr>\n",
       "  </thead>\n",
       "  <tbody>\n",
       "    <tr>\n",
       "      <th>Tampa Bay Buccaneers</th>\n",
       "      <td>2704</td>\n",
       "      <td>1746</td>\n",
       "      <td>892</td>\n",
       "      <td>64</td>\n",
       "      <td>32</td>\n",
       "    </tr>\n",
       "    <tr>\n",
       "      <th>Los Angeles Chargers</th>\n",
       "      <td>2732</td>\n",
       "      <td>1717</td>\n",
       "      <td>966</td>\n",
       "      <td>62</td>\n",
       "      <td>35</td>\n",
       "    </tr>\n",
       "    <tr>\n",
       "      <th>Buffalo Bills</th>\n",
       "      <td>2590</td>\n",
       "      <td>1578</td>\n",
       "      <td>944</td>\n",
       "      <td>60</td>\n",
       "      <td>36</td>\n",
       "    </tr>\n",
       "    <tr>\n",
       "      <th>New York Jets</th>\n",
       "      <td>2784</td>\n",
       "      <td>1676</td>\n",
       "      <td>1006</td>\n",
       "      <td>60</td>\n",
       "      <td>36</td>\n",
       "    </tr>\n",
       "    <tr>\n",
       "      <th>Minnesota Vikings</th>\n",
       "      <td>2482</td>\n",
       "      <td>1510</td>\n",
       "      <td>901</td>\n",
       "      <td>60</td>\n",
       "      <td>36</td>\n",
       "    </tr>\n",
       "  </tbody>\n",
       "</table>\n",
       "</div>"
      ],
      "text/plain": [
       "                      offensive_plays  passes_attempted  rushing_attempts  \\\n",
       "team                                                                        \n",
       "Tampa Bay Buccaneers             2704              1746               892   \n",
       "Los Angeles Chargers             2732              1717               966   \n",
       "Buffalo Bills                    2590              1578               944   \n",
       "New York Jets                    2784              1676              1006   \n",
       "Minnesota Vikings                2482              1510               901   \n",
       "\n",
       "                      passing_percent  rushing_percent  \n",
       "team                                                    \n",
       "Tampa Bay Buccaneers               64               32  \n",
       "Los Angeles Chargers               62               35  \n",
       "Buffalo Bills                      60               36  \n",
       "New York Jets                      60               36  \n",
       "Minnesota Vikings                  60               36  "
      ]
     },
     "execution_count": 67,
     "metadata": {},
     "output_type": "execute_result"
    }
   ],
   "source": [
    "offense_passing_rushing.sort_values(by=['passing_percent'],ascending=False).head()"
   ]
  },
  {
   "cell_type": "code",
   "execution_count": null,
   "id": "30de70e6",
   "metadata": {},
   "outputs": [],
   "source": []
  },
  {
   "cell_type": "code",
   "execution_count": null,
   "id": "1238869a",
   "metadata": {},
   "outputs": [],
   "source": []
  },
  {
   "cell_type": "code",
   "execution_count": null,
   "id": "bd72d983",
   "metadata": {},
   "outputs": [],
   "source": []
  },
  {
   "cell_type": "code",
   "execution_count": null,
   "id": "cd7422cc",
   "metadata": {},
   "outputs": [],
   "source": []
  },
  {
   "cell_type": "code",
   "execution_count": null,
   "id": "5716e04b",
   "metadata": {},
   "outputs": [],
   "source": []
  },
  {
   "cell_type": "code",
   "execution_count": null,
   "id": "7347d846",
   "metadata": {},
   "outputs": [],
   "source": []
  },
  {
   "cell_type": "code",
   "execution_count": null,
   "id": "9dd64a25",
   "metadata": {},
   "outputs": [],
   "source": []
  },
  {
   "cell_type": "code",
   "execution_count": null,
   "id": "2c84fc8d",
   "metadata": {},
   "outputs": [],
   "source": []
  },
  {
   "cell_type": "code",
   "execution_count": null,
   "id": "a18cc111",
   "metadata": {},
   "outputs": [],
   "source": []
  }
 ],
 "metadata": {
  "kernelspec": {
   "display_name": "Python 3 (ipykernel)",
   "language": "python",
   "name": "python3"
  },
  "language_info": {
   "codemirror_mode": {
    "name": "ipython",
    "version": 3
   },
   "file_extension": ".py",
   "mimetype": "text/x-python",
   "name": "python",
   "nbconvert_exporter": "python",
   "pygments_lexer": "ipython3",
   "version": "3.9.12"
  },
  "toc": {
   "base_numbering": 1,
   "nav_menu": {},
   "number_sections": true,
   "sideBar": true,
   "skip_h1_title": false,
   "title_cell": "Table of Contents",
   "title_sidebar": "Contents",
   "toc_cell": false,
   "toc_position": {},
   "toc_section_display": true,
   "toc_window_display": false
  },
  "varInspector": {
   "cols": {
    "lenName": 16,
    "lenType": 16,
    "lenVar": 40
   },
   "kernels_config": {
    "python": {
     "delete_cmd_postfix": "",
     "delete_cmd_prefix": "del ",
     "library": "var_list.py",
     "varRefreshCmd": "print(var_dic_list())"
    },
    "r": {
     "delete_cmd_postfix": ") ",
     "delete_cmd_prefix": "rm(",
     "library": "var_list.r",
     "varRefreshCmd": "cat(var_dic_list()) "
    }
   },
   "types_to_exclude": [
    "module",
    "function",
    "builtin_function_or_method",
    "instance",
    "_Feature"
   ],
   "window_display": false
  }
 },
 "nbformat": 4,
 "nbformat_minor": 5
}
